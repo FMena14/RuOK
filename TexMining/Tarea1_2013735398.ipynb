{
 "cells": [
  {
   "cell_type": "markdown",
   "metadata": {
    "collapsed": true
   },
   "source": [
    "# Tarea 1\n",
    "### INF335 - Tecnologías de Búsqueda en la Web\n",
    "\n",
    "## Integrantes:\n",
    "\n",
    "* Margarita Bugueño - 201373510-k\n",
    "* Fabián Fernandez  -  201373539-8\n",
    "* Francisco Mena    -  201373504-5"
   ]
  },
  {
   "cell_type": "code",
   "execution_count": 1,
   "metadata": {
    "collapsed": false
   },
   "outputs": [
    {
     "data": {
      "text/plain": [
       "(568454,)"
      ]
     },
     "execution_count": 1,
     "metadata": {},
     "output_type": "execute_result"
    }
   ],
   "source": [
    "import numpy as np\n",
    "import pandas as pd\n",
    "import scipy as sp\n",
    "import matplotlib as plt\n",
    "import nltk\n",
    "import re\n",
    "\n",
    "archivo = \"amazon-fine-foods/Reviews.csv\"\n",
    "Dataset = pd.read_csv(archivo)\n",
    "\n",
    "Reviews = Dataset.Text\n",
    "Reviews.shape"
   ]
  },
  {
   "cell_type": "code",
   "execution_count": 2,
   "metadata": {
    "collapsed": false
   },
   "outputs": [
    {
     "data": {
      "text/plain": [
       "0    I have bought several of the Vitality canned d...\n",
       "1    Product arrived labeled as Jumbo Salted Peanut...\n",
       "2    This is a confection that has been around a fe...\n",
       "3    If you are looking for the secret ingredient i...\n",
       "4    Great taffy at a great price.  There was a wid...\n",
       "Name: Text, dtype: object"
      ]
     },
     "execution_count": 2,
     "metadata": {},
     "output_type": "execute_result"
    }
   ],
   "source": [
    "Reviews.head()"
   ]
  },
  {
   "cell_type": "markdown",
   "metadata": {},
   "source": [
    "El dataset corresponde a críticas realizadas por distintos usuarios de Amazon a comidas o restorants provenientes de esta empresa, donde las filas corresponden 568454 usuarios y la única columna extraída consta de la crítica o *review* realizada sobre algún plato o comida en especial, o en general sobre el contexto de comidas de Amazon.  \n",
    "Este dataset será utilizado para realizar procesamiento de lenguaje natural sobre las críticas en texto, con distintas herramientas provenientes de librerías de Python."
   ]
  },
  {
   "cell_type": "code",
   "execution_count": 2,
   "metadata": {
    "collapsed": false
   },
   "outputs": [],
   "source": [
    "Corpus_lista = []\n",
    "for review in Reviews:\n",
    "    Corpus_lista.append(review)"
   ]
  },
  {
   "cell_type": "markdown",
   "metadata": {},
   "source": [
    "En la celda anterior se crea el *corpus* que almacenará todas las críticas (*reviews*) en una lista de estas."
   ]
  },
  {
   "cell_type": "markdown",
   "metadata": {},
   "source": [
    "## Preprocesamiento"
   ]
  },
  {
   "cell_type": "markdown",
   "metadata": {},
   "source": [
    "A continuación el primer preprocesamiento sobre el Corpus completo será el de eliminar etiquetas html contenidas dentro de las críticas, ya que existen usuarios que para ellas utilizaron herramientas de edición del lenguaje personalizada, tales como saltos de líneas (código **br**) y links a otros sitios web (código **a href**)."
   ]
  },
  {
   "cell_type": "code",
   "execution_count": 3,
   "metadata": {
    "collapsed": false
   },
   "outputs": [],
   "source": [
    "from bs4 import BeautifulSoup\n",
    "from ehp import *\n",
    "\n",
    "html = Html()\n",
    "\n",
    "Corpus_preprocesado = []\n",
    "for documento in Corpus_lista:\n",
    "    Corpus_preprocesado.append(html.feed(documento).text())\n",
    "\n",
    "    #Corpus_preprocesado.append(BeautifulSoup(documento.decode('utf-8','ignore')).get_text())"
   ]
  },
  {
   "cell_type": "markdown",
   "metadata": {},
   "source": [
    "Se cambió la librería utilizada para eliminar las etiquetas html debido a que se demora mucho en procesar con la librería **BeautifulSoup**, por lo que se utilizó una librería auxiliar llamada **ehp** (Easy Html Parser), la cual *parsea* de una forma más eficiente en términos de computación."
   ]
  },
  {
   "cell_type": "code",
   "execution_count": 4,
   "metadata": {
    "collapsed": true
   },
   "outputs": [],
   "source": [
    "Corpus_preprocesado = [documento.lower() for documento in Corpus_preprocesado]"
   ]
  },
  {
   "cell_type": "markdown",
   "metadata": {},
   "source": [
    "En la celda anterior, cada palabra de las criticas pertenecientes al corpus es transformada a minúsculas. Este preprocesamiento es necesario para tener un formato neutro y evitar la duplicidad de palabras."
   ]
  },
  {
   "cell_type": "markdown",
   "metadata": {},
   "source": [
    "Luego, se tokeniza el Corpus completo, esto significa que el Corpus se divide por términos y se almacena en una lista. Este paso es necesario para la siguiente operación de eliminar las palabras sin significado por sí solas (**stopwords**). Estas palabras, que son frecuentemente utilizadas por los usuarios, se eliminan para no ser consideradas y no afecten al análisis léxico del Corpus.   \n",
    "\n",
    "Cabe destacar que esta operación es la más costosa en términos computacionales, ya que va término a término comparando si está dentro del conjunto de las stopwords, el orden computacional sería del producto de la cantidad de tokens detectados por la cantidad de stopwords."
   ]
  },
  {
   "cell_type": "code",
   "execution_count": 5,
   "metadata": {
    "collapsed": false
   },
   "outputs": [
    {
     "name": "stdout",
     "output_type": "stream",
     "text": [
      "[u'i', u'have', u'bought', u'several', u'of', u'the', u'vitality', u'canned', u'dog', u'food', u'products', u'and', u'have', u'found', u'them', u'all', u'to', u'be', u'of', u'good', u'quality', u'.', u'the', u'product', u'looks', u'more', u'like', u'a', u'stew', u'than', u'a', u'processed', u'meat', u'and', u'it', u'smells', u'better', u'.', u'my', u'labrador', u'is', u'finicky', u'and', u'she', u'appreciates', u'this', u'product', u'better', u'than', u'most', u'.']\n"
     ]
    }
   ],
   "source": [
    "#se tokeniza por documento\n",
    "Corpus_tokenizado = []\n",
    "for documento in Corpus_preprocesado:\n",
    "    Corpus_tokenizado.append(nltk.word_tokenize(documento.decode('utf-8','ignore')))\n",
    "print Corpus_tokenizado[0]"
   ]
  },
  {
   "cell_type": "markdown",
   "metadata": {},
   "source": [
    "En primer lugar se *tokeniza* por documento (review/critica), quedando cada documento separado por término como se muestra en la celda anterior."
   ]
  },
  {
   "cell_type": "code",
   "execution_count": 6,
   "metadata": {
    "collapsed": false
   },
   "outputs": [
    {
     "name": "stdout",
     "output_type": "stream",
     "text": [
      "[u'bought', u'several', u'vitality', u'canned', u'dog', u'food', u'products', u'found', u'good', u'quality', u'.', u'product', u'looks', u'like', u'stew', u'processed', u'meat', u'smells', u'better', u'.', u'labrador', u'finicky', u'appreciates', u'product', u'better', u'.']\n"
     ]
    }
   ],
   "source": [
    "from nltk.corpus import stopwords\n",
    "\n",
    "#se eliminan stopwords\n",
    "stoplist = stopwords.words('english')\n",
    "\n",
    "Corpus_sin_stopwords = []\n",
    "for documento in Corpus_tokenizado:\n",
    "    #se eliminan los stopword de cada documento\n",
    "    token_sin_stopwords = [ token for token in documento  if token not in stoplist ]\n",
    "    Corpus_sin_stopwords.append(token_sin_stopwords )\n",
    "print Corpus_sin_stopwords[0]"
   ]
  },
  {
   "cell_type": "markdown",
   "metadata": {},
   "source": [
    "El procesamiento siguiente es necesario para borrar todos los símbolos y signos de puntuación que todavía quedan presentes en el Corpus, tal cómo apóstrofes en las palabras *don't* o *it's*, es decir, dejar solo los términos alfanuméricos significativos."
   ]
  },
  {
   "cell_type": "code",
   "execution_count": 7,
   "metadata": {
    "collapsed": false
   },
   "outputs": [],
   "source": [
    "Corpus_preprocesado = [ re.sub(r'[^\\w]', ' ',  ' '.join(documento)) for documento in Corpus_sin_stopwords ]"
   ]
  },
  {
   "cell_type": "markdown",
   "metadata": {},
   "source": [
    "El procesamiento siguiente es necesario para borrar las palabras de largo 1 y 2, es decir, palabras que todavía no hayan sido filtradas por la lista de los stopwords (*stoplist*) y que no representan un significado por sí solas."
   ]
  },
  {
   "cell_type": "code",
   "execution_count": 8,
   "metadata": {
    "collapsed": true
   },
   "outputs": [],
   "source": [
    "Corpus_preprocesado = [ re.sub(r'\\b[a-z]\\b', ' ',  documento) for documento in Corpus_preprocesado ]\n",
    "Corpus_preprocesado = [ re.sub(r'\\b[a-z][a-z]\\b', ' ',  documento) for documento in Corpus_preprocesado ]"
   ]
  },
  {
   "cell_type": "markdown",
   "metadata": {},
   "source": [
    "A continuación se presenta un extracto del corpus actual en comparación a antes del preprocesamiento, para ver el cambio a nivel semántico y léxico, en donde se puede ver que muchas palabras son eliminadas, dejando una estructura bastante *canónica*."
   ]
  },
  {
   "cell_type": "code",
   "execution_count": 11,
   "metadata": {
    "collapsed": false
   },
   "outputs": [
    {
     "name": "stdout",
     "output_type": "stream",
     "text": [
      "Texto antes:  I have bought several of the Vitality canned dog food products and have found them all to be of good quality. The product looks more like a stew than a processed meat and it smells better. My Labrador is finicky and she appreciates this product better than  most.\n",
      "Texto despues:  bought several vitality canned dog food products found good quality   product looks like stew processed meat smells better   labrador finicky appreciates product better  \n"
     ]
    }
   ],
   "source": [
    "print \"Texto antes: \",Corpus_lista[0]\n",
    "print \"Texto despues: \", Corpus_preprocesado[0]"
   ]
  },
  {
   "cell_type": "markdown",
   "metadata": {},
   "source": [
    "##### Diccionario de palabras"
   ]
  },
  {
   "cell_type": "code",
   "execution_count": 12,
   "metadata": {
    "collapsed": false
   },
   "outputs": [],
   "source": [
    "#se tokeniza cada documento\n",
    "Corpus_tokenizado = nltk.word_tokenize(\"\")\n",
    "for documento in Corpus_preprocesado:\n",
    "    Corpus_tokenizado += nltk.word_tokenize(documento.decode('utf-8','ignore'))"
   ]
  },
  {
   "cell_type": "code",
   "execution_count": 18,
   "metadata": {
    "collapsed": false
   },
   "outputs": [
    {
     "data": {
      "image/png": "[encoded data removed]",
      "text/plain": [
       "<matplotlib.figure.Figure at 0x7f6d05915e10>"
      ]
     },
     "metadata": {},
     "output_type": "display_data"
    }
   ],
   "source": [
    "import matplotlib.pyplot as plt\n",
    "fdist = nltk.FreqDist(Corpus_tokenizado)\n",
    "plt.figure(figsize=(12,6))\n",
    "fdist.plot(50)"
   ]
  },
  {
   "cell_type": "code",
   "execution_count": 19,
   "metadata": {
    "collapsed": false
   },
   "outputs": [
    {
     "data": {
      "text/plain": [
       "133763"
      ]
     },
     "execution_count": 19,
     "metadata": {},
     "output_type": "execute_result"
    }
   ],
   "source": [
    "len(fdist)"
   ]
  },
  {
   "cell_type": "markdown",
   "metadata": {},
   "source": [
    "En la celda anterior se crea un diccionario para el corpus, compuesto por cada una de las palabras presentes en él asociada a la frecuencia de cada una de ellas. Así entonces, se obtiene un vocabulario de 133763 palabras para el preprocesamiento realizado. Además de esto se puede visualizar un gráfico representando a este diccionario, donde se ve una clara ley de Zipf, es decir, ley de mínimo esfuerzo, pocas palabras que se repiten muchas veces y hartas palabras que se repiten poco, lo cual indica una poca diversidad del lenguaje."
   ]
  },
  {
   "cell_type": "code",
   "execution_count": 22,
   "metadata": {
    "collapsed": false
   },
   "outputs": [],
   "source": [
    "dic = {}\n",
    "for token in Corpus_tokenizado:\n",
    "    if token not in dic:\n",
    "        dic[token] = 1\n",
    "    else:\n",
    "        dic[token]+=1"
   ]
  },
  {
   "cell_type": "code",
   "execution_count": 23,
   "metadata": {
    "collapsed": false
   },
   "outputs": [
    {
     "data": {
      "image/png": "[encoded data removed]",
      "text/plain": [
       "<matplotlib.figure.Figure at 0x7f6d056e8610>"
      ]
     },
     "metadata": {},
     "output_type": "display_data"
    }
   ],
   "source": [
    "aux = sorted(dic.values(),reverse=True)\n",
    "import matplotlib.pyplot as plt\n",
    "plt.plot(range(len(aux)), aux)\n",
    "plt.axvline(57000,c='r')\n",
    "plt.ylim(0,10)\n",
    "plt.show()"
   ]
  },
  {
   "cell_type": "markdown",
   "metadata": {},
   "source": [
    "El gráfico anterior es nuestro argumento para definir el umbral de frecuencia mínima de palabras, el eje *x* representa a las palabras en el vocabulario, el eje *y* representa la frecuencia de cada una. El umbral es de 3 palabras, es decir, las palabras que se repiten dos o menos veces son eliminadas. Así, desde la línea vertical roja hacia la derecha son eliminadas, dejando aproximadamente 60000 palabras en el diccionario de las 130000 iniciales. Por lo tanto, el vocabulario se ve disminuido en un 50%."
   ]
  },
  {
   "cell_type": "code",
   "execution_count": 40,
   "metadata": {
    "collapsed": false
   },
   "outputs": [
    {
     "name": "stdout",
     "output_type": "stream",
     "text": [
      "76016\n"
     ]
    }
   ],
   "source": [
    "#extraer palabras que seran eliminadas\n",
    "a_eliminar = []\n",
    "for palabra in dic:\n",
    "    if dic[palabra] < 3:\n",
    "        a_eliminar.append(palabra)\n",
    "print len(a_eliminar)"
   ]
  },
  {
   "cell_type": "markdown",
   "metadata": {},
   "source": [
    "Se seleccionan las palabras a ser eliminadas, las cuales son 76016 del diccionario completo, lo que se traduce a una mayor cantidad de palabras a eliminar sobre el Corpus completo. Estas son las palabras que aparecen una vez en todo el corpus o dos veces, es decir, palabras poco frecuentes y utilizadas por los usuarios que realizan las críticas, por lo que podrían ser consideradas como *ruido*, palabras únicas del contexto u otro factor, por ejemplo nombres de lugares o personas.  \n",
    "En la siguiente celda las palabras seleccionadas son eliminadas de todo el Corpus."
   ]
  },
  {
   "cell_type": "code",
   "execution_count": 24,
   "metadata": {
    "collapsed": false
   },
   "outputs": [
    {
     "name": "stdout",
     "output_type": "stream",
     "text": [
      "22794889\n"
     ]
    }
   ],
   "source": [
    "nuevo_Corpus = [] #corpus de tokens de todo el texto preprocesado\n",
    "for token in Corpus_tokenizado:\n",
    "    if dic[token] >= 3: #umbral\n",
    "        nuevo_Corpus.append(token)\n",
    "print len(nuevo_Corpus)"
   ]
  },
  {
   "cell_type": "markdown",
   "metadata": {},
   "source": [
    "##### Bigramas"
   ]
  },
  {
   "cell_type": "code",
   "execution_count": 31,
   "metadata": {
    "collapsed": false
   },
   "outputs": [
    {
     "name": "stdout",
     "output_type": "stream",
     "text": [
      "[(u'katharena', u'eiermann'), (u'chupa', u'chups'), (u'uva', u'ursi'), (u'nooks', u'crannies'), (u'030', u'268'), (u'gia', u'russa'), (u'hund', u'flocken'), (u'pau', u'arco'), (u'harris', u'teeter'), (u'pepto', u'bismol'), (u'dinty', u'moore'), (u'joanne', u'tobacman'), (u'mehmet', u'efendi'), (u'whisker', u'lickins'), (u'chiou', u'toxicology'), (u'kum', u'kee'), (u'highlander', u'grogg'), (u'jules', u'destrooper'), (u'danny', u'elfman'), (u'liv', u'littles'), (u'aspergillus', u'oryzae'), (u'bertie', u'botts'), (u'bonne', u'maman'), (u'bok', u'choy'), (u'shar', u'pei'), (u'coton', u'tulear'), (u'dong', u'quai'), (u'enterococcus', u'faecium'), (u'bacillus', u'subtilis'), (u'yama', u'moto')]\n"
     ]
    }
   ],
   "source": [
    "from nltk.collocations import *\n",
    "\n",
    "bigram_measures = nltk.collocations.BigramAssocMeasures()\n",
    "\n",
    "#bigram (collocation) aplicado sobre el corpus completo (preprocesado y tokenizado)\n",
    "finder = BigramCollocationFinder.from_words(nuevo_Corpus)\n",
    "print finder.nbest(bigram_measures.pmi, 30) "
   ]
  },
  {
   "cell_type": "markdown",
   "metadata": {},
   "source": [
    "En la celda anterior se muestran las top 30 collocation (bigramas) del corpus completo. Estos son los pares de palabras que más se repiten, en general son palabras que tienen un significado particular sólo si están ambas juntas su filosofía va con \"el todo es más que la suma de las partes individuales\". Analizando los bigramas de este corpus, nos encontramos con nombres de marcas de comida tal como *jules destrooper*, *chupa chups*, *mehmet efendi*, entre otros. Un par de nombres de personas como *katharena eiermann*, *joanne tobacman*, bacterias como *bacillus subtilis*, *enterococcus faecium*.  \n",
    "Se puede ver que la gran parte de estas al ser nombres, corresponden a sustantivos. Donde por el dominio del dataset (*Amazon food*) son relacionadas al ámbito culinario."
   ]
  },
  {
   "cell_type": "markdown",
   "metadata": {},
   "source": [
    "##### Taggers"
   ]
  },
  {
   "cell_type": "code",
   "execution_count": 37,
   "metadata": {
    "collapsed": false
   },
   "outputs": [
    {
     "name": "stdout",
     "output_type": "stream",
     "text": [
      "[u'I have bought several of the Vitality canned dog food products and have found them all to be of good quality.', u'The product looks more like a stew than a processed meat and it smells better.', u'My Labrador is finicky and she appreciates this product better than  most.', u'Product arrived labeled as Jumbo Salted Peanuts...the peanuts were actually small sized unsalted.', u'Not sure if this was an error or if the vendor intended to represent the product as  Jumbo .', u'This is a confection that has been around a few centuries.', u'It is a light  pillowy citrus gelatin with nuts   in this case Filberts.', u'And it is cut into tiny squares and then liberally coated with powdered sugar.', u'And it is a tiny mouthful of heaven.', u'Not too chewy  and very flavorful.']\n"
     ]
    }
   ],
   "source": [
    "#crear token de sentencia\n",
    "from nltk.tokenize import sent_tokenize\n",
    "\n",
    "sentencias = []\n",
    "for review in Reviews[:50000]: #para cada critica (sentencia) del corpus\n",
    "    #eliminan los tag html de la critica\n",
    "    review_procesada = BeautifulSoup(review).text   \n",
    "    \n",
    "    #elimina los simbolos excepto alfanumerico o simbolo de puntuacion\n",
    "    review_procesada = re.sub(r'[^\\w.]', ' ', review_procesada)\n",
    "    \n",
    "    sent_review = sent_tokenize(review_procesada.decode('utf-8','ignore')) #se tokeniza en base a sentencia (frase)\n",
    "    sentencias+=sent_review\n",
    "    \n",
    "print sentencias[:10]"
   ]
  },
  {
   "cell_type": "markdown",
   "metadata": {},
   "source": [
    "Los puntos en el corpus son necesarios para separar cada crítica por sentencia o frase, ya que cada crítica podría poseer múltiples frases por separado, esto es solo para el análisis del tagger debido a que este trabaja con cadenas de markov, donde cada palabra es condicionada por la anterior.\n",
    "\n",
    "Para la actividad se selecciona una pequeña fracción de todo el dataset (una muestra del 10%) para realizar los análisis de texto, lo cual no le quita relevancia ya que es una gran cantidad de datos. Esto es ya que en los computadores que se ejecutaron los códigos solo soportaban esta fracción."
   ]
  },
  {
   "cell_type": "code",
   "execution_count": 38,
   "metadata": {
    "collapsed": false
   },
   "outputs": [
    {
     "name": "stdout",
     "output_type": "stream",
     "text": [
      "Sentencia: \n",
      "[(u'I', u'PRP'), (u'have', u'VBP'), (u'bought', u'VBN'), (u'several', u'JJ'), (u'of', u'IN'), (u'the', u'DT'), (u'Vitality', u'NN'), (u'canned', u'VBD'), (u'dog', u'NN'), (u'food', u'NN'), (u'products', u'NNS'), (u'and', u'CC'), (u'have', u'VBP'), (u'found', u'VBN'), (u'them', u'PRP'), (u'all', u'DT'), (u'to', u'TO'), (u'be', u'VB'), (u'of', u'IN'), (u'good', u'JJ'), (u'quality', u'NN'), (u'.', u'.')]\n",
      "Sentencia: \n",
      "[(u'The', u'DT'), (u'product', u'NN'), (u'looks', u'VBZ'), (u'more', u'JJR'), (u'like', u'IN'), (u'a', u'DT'), (u'stew', u'NN'), (u'than', u'IN'), (u'a', u'DT'), (u'processed', u'VBN'), (u'meat', u'NN'), (u'and', u'CC'), (u'it', u'PRP'), (u'smells', u'VBZ'), (u'better', u'JJR'), (u'.', u'.')]\n",
      "Sentencia: \n",
      "[(u'My', u'PRP$'), (u'Labrador', u'NN'), (u'is', u'VBZ'), (u'finicky', u'JJ'), (u'and', u'CC'), (u'she', u'PRP'), (u'appreciates', u'VBZ'), (u'this', u'DT'), (u'product', u'NN'), (u'better', u'JJR'), (u'than', u'IN'), (u'most', u'JJS'), (u'.', u'.')]\n",
      "Sentencia: \n",
      "[(u'Product', u'NN'), (u'arrived', u'VBD'), (u'labeled', u'VBN'), (u'as', u'IN'), (u'Jumbo', u'NNP'), (u'Salted', u'NNP'), (u'Peanuts', u'NNP'), (u'...', u':'), (u'the', u'DT'), (u'peanuts', u'NNS'), (u'were', u'VBD'), (u'actually', u'RB'), (u'small', u'JJ'), (u'sized', u'VBN'), (u'unsalted', u'JJ'), (u'.', u'.')]\n",
      "Sentencia: \n",
      "[(u'Not', u'RB'), (u'sure', u'JJ'), (u'if', u'IN'), (u'this', u'DT'), (u'was', u'VBD'), (u'an', u'DT'), (u'error', u'NN'), (u'or', u'CC'), (u'if', u'IN'), (u'the', u'DT'), (u'vendor', u'NN'), (u'intended', u'VBN'), (u'to', u'TO'), (u'represent', u'VB'), (u'the', u'DT'), (u'product', u'NN'), (u'as', u'IN'), (u'Jumbo', u'NNP'), (u'.', u'.')]\n"
     ]
    }
   ],
   "source": [
    "from nltk.tag import StanfordPOSTagger\n",
    "#agregar jar y modelo mediante la ruta de estos\n",
    "#Postagger para version de java 7\n",
    "jar = 'stanford-postagger-2014-08-27/stanford-postagger.jar'\n",
    "model = 'stanford-postagger-2014-08-27/models/english-left3words-distsim.tagger'\n",
    "\n",
    "pos_tagger = StanfordPOSTagger(model, jar, encoding='utf8')\n",
    "\n",
    "#para cada sentencia en el corpus\n",
    "for sentencia in sentencias[:5]:\n",
    "    print \"Sentencia: \"\n",
    "    \n",
    "    sentencia_tokenizada=nltk.word_tokenize(sentencia)\n",
    "    \n",
    "    tagged_text = pos_tagger.tag(sentencia_tokenizada)\n",
    "    print tagged_text"
   ]
  },
  {
   "cell_type": "markdown",
   "metadata": {},
   "source": [
    "En la celda anterior se configura el POSTagger de Standford, implementado en la versión 7 de java el cual asigna *tags* a cada token de una sentencia perteneciente al corpus como se puede ver en la ejecución del código. En él se muestra un extracto de todas las sentencias para visualizar la asignación hecha.  \n",
    "Dados los resultados, es posible notar que la asignación de cada **tag** a cada token es correcta para este extracto, lo cual se atribuye a la dependencia de cada palabra respecto a la anterior, determinando así la función que esta cumple en el texto. Es por esto que es necesario dejar las palabras que son stopwords, ya que estas cumplen un rol fundamental al momento de asignar el **tag**, debido a que si estas fueran eliminadas toda la asignación cambiaría debido a que la cadena sería otra, por lo que el contexto se vería afectado."
   ]
  },
  {
   "cell_type": "code",
   "execution_count": 95,
   "metadata": {
    "collapsed": false
   },
   "outputs": [
    {
     "name": "stdout",
     "output_type": "stream",
     "text": [
      "Sentencia: \n",
      "[(u'In', u'O'), (u'the', u'O'), (u'worst', u'O'), (u'of', u'O'), (u'times', u'O'), (u'they', u'O'), (u'sniff', u'O'), (u'and', u'O'), (u'eat', u'O'), (u'this', u'O'), (u'and', u'O'), (u'get', u'O'), (u'through', u'O'), (u'the', u'O'), (u'cold', u'O'), (u'and', u'O'), (u'fight', u'O'), (u'to', u'O'), (u'keep', u'O'), (u'their', u'O'), (u'territory', u'O'), (u'...', u'O'), (u'I', u'O'), (u'love', u'O'), (u'my', u'O'), (u'TNR', u'O'), (u'program', u'O'), (u'I', u'O'), (u'donated', u'O'), (u'to', u'O'), (u'Denver', u'LOCATION'), (u'for', u'O'), (u'wonderful', u'O'), (u'reasons', u'O'), (u'.', u'O')]\n",
      "Sentencia: \n",
      "[(u'We', u'O'), (u'elders', u'O'), (u'must', u'O'), (u'set', u'O'), (u'a', u'O'), (u'example..Thank', u'O'), (u'You', u'O'), (u'Amazon', u'LOCATION'), (u'and', u'O'), (u'all', u'O'), (u'the', u'O'), (u'stores', u'O'), (u'and', u'O'), (u'fast', u'O'), (u'delivery', u'O'), (u'bundling', u'O'), (u'and', u'O'), (u'easy', u'O'), (u'open', u'O'), (u'packaging..', u'O')]\n",
      "Sentencia: \n",
      "[(u'I', u'O'), (u'don', u'O'), (u't', u'O'), (u'take', u'O'), (u'enough', u'O'), (u'time', u'O'), (u'to', u'O'), (u'thank', u'O'), (u'you', u'O'), (u'and', u'O'), (u'the', u'O'), (u'wonderful', u'O'), (u'people', u'O'), (u'who', u'O'), (u'deliver', u'O'), (u'all', u'O'), (u'my', u'O'), (u'STUFF', u'O'), (u'THANKS', u'O'), (u'THANKS', u'O'), (u'and', u'O'), (u'ALWAYS', u'O'), (u'BE', u'O'), (u'HAPPY', u'O')]\n",
      "Sentencia: \n",
      "[(u'The', u'O'), (u'dessert', u'O'), (u'recipe', u'O'), (u'i', u'O'), (u'wanted', u'O'), (u'to', u'O'), (u'make', u'O'), (u'called', u'O'), (u'for', u'O'), (u'a', u'O'), (u'mango', u'O'), (u'syrup', u'O'), (u'.', u'O')]\n",
      "Sentencia: \n",
      "[(u'Since', u'O'), (u'i', u'O'), (u'haven', u'O'), (u't', u'O'), (u'tasted', u'O'), (u'the', u'O'), (u'Torani', u'O'), (u'and', u'O'), (u'the', u'O'), (u'Monin', u'PERSON'), (u'mango', u'O'), (u'syrups', u'O'), (u'i', u'O'), (u'decided', u'O'), (u'to', u'O'), (u'give', u'O'), (u'both', u'O'), (u'a', u'O'), (u'try', u'O'), (u'.', u'O')]\n",
      "Sentencia: \n",
      "[(u'Growing', u'O'), (u'up', u'O'), (u'eating', u'O'), (u'Philippine', u'O'), (u'mangoes', u'O'), (u'during', u'O'), (u'the', u'O'), (u'mango', u'O'), (u'season', u'O'), (u'will', u'O'), (u'pretty', u'O'), (u'much', u'O'), (u'give', u'O'), (u'me', u'O'), (u'an', u'O'), (u'idea', u'O'), (u'of', u'O'), (u'how', u'O'), (u'mangoes', u'O'), (u'should', u'O'), (u'taste', u'O'), (u'like.IMO', u'O'), (u'the', u'O'), (u'Torani', u'O'), (u'mango', u'O'), (u'syrup', u'O'), (u'doesn', u'O'), (u't', u'O'), (u'taste', u'O'), (u'like', u'O'), (u'it', u'O'), (u'has', u'O'), (u'real', u'O'), (u'mango', u'O'), (u'in', u'O'), (u'it', u'O'), (u'tastes', u'O'), (u'very', u'O'), (u'artificial.On', u'O'), (u'the', u'O'), (u'other', u'O'), (u'hand', u'O'), (u'the', u'O'), (u'Monin', u'PERSON'), (u'mango', u'O'), (u'syrup', u'O'), (u'surely', u'O'), (u'would', u'O'), (u'have', u'O'), (u'artificial', u'O'), (u'ingredients', u'O'), (u'in', u'O'), (u'it', u'O'), (u'too', u'O'), (u'but', u'O'), (u'Monin', u'PERSON'), (u'did', u'O'), (u'a', u'O'), (u'pretty', u'O'), (u'good', u'O'), (u'job', u'O'), (u'of', u'O'), (u'making', u'O'), (u'the', u'O'), (u'syrup', u'O'), (u'taste', u'O'), (u'more', u'O'), (u'like', u'O'), (u'pureed', u'O'), (u'mango', u'O'), (u'.', u'O')]\n",
      "Sentencia: \n",
      "[(u'I', u'O'), (u'love', u'O'), (u'Monin', u'PERSON'), (u'.', u'O')]\n",
      "Sentencia: \n",
      "[(u'I', u'O'), (u'hope', u'O'), (u'that', u'O'), (u'the', u'O'), (u'Rose', u'O'), (u'and', u'O'), (u'the', u'O'), (u'Lavender', u'O'), (u'syrups', u'O'), (u'i', u'O'), (u'bought', u'O'), (u'just', u'O'), (u'now', u'O'), (u'won', u'O'), (u't', u'O'), (u'disappoint', u'O'), (u'as', u'O'), (u'well', u'O'), (u'.', u'O')]\n",
      "Sentencia: \n",
      "[(u'Can', u'O'), (u'it', u'O'), (u'be', u'O'), (u'A', u'O'), (u'cerial', u'O'), (u'that', u'O'), (u'has', u'O'), (u'fiber', u'O'), (u'in', u'O'), (u'it', u'O'), (u's', u'O'), (u'name', u'O'), (u'that', u'O'), (u'I', u'O'), (u'don', u'O'), (u't', u'O'), (u'have', u'O'), (u'to', u'O'), (u'mix', u'O'), (u'with', u'O'), (u'another', u'O'), (u'cerial', u'O'), (u'just', u'O'), (u'to', u'O'), (u'choke', u'O'), (u'down', u'O'), (u'Yes', u'O'), (u'This', u'O'), (u'is', u'O'), (u'it', u'O'), (u'Get', u'O'), (u'your', u'O'), (u'fiber', u'O'), (u'in', u'O'), (u'a', u'O'), (u'way', u'O'), (u'that', u'O'), (u'is', u'O'), (u'actually', u'O'), (u'pleasant', u'O'), (u'.', u'O')]\n",
      "Sentencia: \n",
      "[(u'I', u'O'), (u'love', u'O'), (u'the', u'O'), (u'21st', u'O'), (u'century', u'O')]\n"
     ]
    }
   ],
   "source": [
    "from nltk.tag import StanfordNERTagger\n",
    "\n",
    "#se configura el tagger\n",
    "jar = 'stanford-ner-2014-08-27/stanford-ner.jar'\n",
    "model = 'stanford-ner-2014-08-27/classifiers/english.all.3class.distsim.crf.ser.gz'\n",
    "ner_tagger = StanfordNERTagger(model,jar,encoding='utf-8')\n",
    "\n",
    "#para cada sentencia en el corpus\n",
    "for sentencia in sentencias[65:75]:\n",
    "    print \"Sentencia: \"\n",
    "    \n",
    "    sentencia_tokenizada=nltk.word_tokenize(sentencia)\n",
    "    \n",
    "    tagged_text = ner_tagger.tag(sentencia_tokenizada)\n",
    "    print tagged_text"
   ]
  },
  {
   "cell_type": "markdown",
   "metadata": {},
   "source": [
    "En la celda anterior se presenta un extracto de todas las sentencias presentes en el corpus, ya que muchas de éstas no poseen entidades por lo que el tagger solo las asigna como **O** lo cual significa *other*.  \n",
    "En cambio, otras sentencias presentan entidades de lugares como Denver, Amazon (Amazonas) y de personas como \"Monin\". Para el caso de la palabra Amazon, la cual es considerada un lugar en base al *Nertagger*, se puede ver que en base al contexto se refiere a las tiendas de las franquicia, por lo que el *tagger* tiene ciertos errores debido a la polisemia de las palabras.  \n",
    "\n",
    "Los términos detectados están predefinidos por este tagger, lo que explica que se reconozca \"Monin\" como una persona y no \"Rose\", que también está presente en algunas sentencias pero no es detectada como una entidad. Esto es debido al mismo análisis del *Postagger*, ya que al ser una cadena de markov, esta depende del contexto anterior que se genere."
   ]
  },
  {
   "cell_type": "markdown",
   "metadata": {},
   "source": [
    "## Sentiment Analysis"
   ]
  },
  {
   "cell_type": "markdown",
   "metadata": {},
   "source": [
    "A partir de las reseñas incluidas en el dataset original (*Reviews.csv*) se procesan a continuación, tal cual se hizo anteriormente para el corpus, cada una de las reseñas incluidas en él a fin de determinar y analizar la polaridad de cada una. Para ello se utilizrá la librería Vader incorporada en NLTK. \n"
   ]
  },
  {
   "cell_type": "markdown",
   "metadata": {},
   "source": [
    "### Preprocesamiento"
   ]
  },
  {
   "cell_type": "code",
   "execution_count": 45,
   "metadata": {
    "collapsed": false
   },
   "outputs": [
    {
     "name": "stdout",
     "output_type": "stream",
     "text": [
      "5000\n"
     ]
    }
   ],
   "source": [
    "stoplist = stopwords.words('english')\n",
    "\n",
    "Reviews = Reviews.sample(5000)\n",
    "\n",
    "Documento = []\n",
    "for review in Reviews: #por cada reseña (sentencia)\n",
    "    #hacer preprocesamiento y guardar en nueva lista\n",
    "    \n",
    "    #se eliminan los tag html y se pasa a minusculas\n",
    "    soup = BeautifulSoup(review)\n",
    "    critica = soup.get_text().lower()\n",
    "    \n",
    "    #se tokeniza\n",
    "    tokens=nltk.word_tokenize(critica)\n",
    "\n",
    "    #se eliminan stopwords\n",
    "    critica = \"\"\n",
    "    for token in tokens:\n",
    "        if token not in stoplist:\n",
    "            critica += token+\" \"\n",
    "            \n",
    "    #elimina todo los simbolos que no sean alfanumericos\n",
    "    nueva_critica = re.sub(r'[^\\w]', r' ', critica)\n",
    "            \n",
    "    #elimina palabras que tengan largo 2 o menos\n",
    "    nueva_critica =  re.sub(r'\\b[a-z]\\b', r' ', nueva_critica)\n",
    "    nueva_critica =  re.sub(r'\\b[a-z][a-z]\\b', r' ', nueva_critica)\n",
    "    \n",
    "    #se tokeniza\n",
    "    tokens=nltk.word_tokenize(nueva_critica)\n",
    "    \n",
    "    #se eliminan las palabras con frecuencia menor a 3 en todo el corpus\n",
    "    final = \"\"\n",
    "    for token in tokens:\n",
    "        if fdist[token] >=3 :#token not in a_eliminar (mas lento)\n",
    "            final += token + \" \"\n",
    "                \n",
    "    Documento.append(final)\n",
    "print len(Documento)"
   ]
  },
  {
   "cell_type": "markdown",
   "metadata": {},
   "source": [
    "Se selecciona una muestra de 1% del dataset completo para realizar esta sección debido a que no es de gran relevancia ejecutar sobre todo el dataset. Además se tenían problemas al ejecutar sobre el corpus completo, debido a las limitaciones de los recursos computacionales."
   ]
  },
  {
   "cell_type": "markdown",
   "metadata": {},
   "source": [
    "### Polaridad"
   ]
  },
  {
   "cell_type": "markdown",
   "metadata": {},
   "source": [
    "El análisis de sentimiento es útil para una amplia gama de problemas que son de interés en diversos campos tales como la sociología, el marketing, la publicidad y otros. La naturaleza inherente del contenido de los posteos (o micro blogs) plantean desafíos a las aplicaciones prácticas del análisis del sentimiento debido al gran volumen de los contenidos que se pueden hallar en la web así como los diversos contextos.\n",
    "Por ello, se procede a aplicar el método polarity_scores() a cada reseña disponible."
   ]
  },
  {
   "cell_type": "code",
   "execution_count": 105,
   "metadata": {
    "collapsed": false,
    "scrolled": false
   },
   "outputs": [
    {
     "name": "stdout",
     "output_type": "stream",
     "text": [
      "Sentencia original:\n",
      "I srewed the top off the bottle without removing the hard plastic pull ring. Makes me wonder if it's safe to use. There is not other covering and I put the cap back on and it looks like it's never been opened! Since it's a powered supplement this doesnt look safe. I gave it a two because of the seal and the fact that I'll probably have to return it.\n",
      "Polaridad:  {'neg': 0.0, 'neu': 0.837, 'pos': 0.163, 'compound': 0.8654}\n",
      "Sentencia preprocesada:\n",
      "top bottle without removing hard plastic pull makes wonder safe use covering put cap back looks like never opened since powered supplement doesnt look safe gave two seal fact probably return \n",
      "Polaridad:  {'neg': 0.0, 'neu': 0.695, 'pos': 0.305, 'compound': 0.8554}\n",
      "\n",
      "Sentencia original:\n",
      "I have tried to get rid of these buggers for over a year now. I have tried everything from chewing gum, insecticide for the grubs, flooding them with a garden hose ( I ran the hose down a main tunner for 8 hours before the water appeared out of another hole 20 feet away), mole poison, looked into a cosstly mole servicewithout any guarantees, and even considered a little gasoline at one time!<br /><br />The Mole Trap arrived yesterday April 19th 2012. I read the reviews and using the instructions from the reviewer (Thanks G Klos), I set the trap following the reviewers instruction and warned all of the family to be aware of the trap and to keep away from it. Shortly after 6 pm today Aprill 20th I found the trap sprung and there in the jaws was the critter that has wreaked havok on what was once a flat smooth front yard.<br /><br />Tomorrow I move to the back yard.<br /><br />This trap is incredible.\n",
      "Polaridad:  {'neg': 0.108, 'neu': 0.892, 'pos': 0.0, 'compound': -0.937}\n",
      "Sentencia preprocesada:\n",
      "tried get rid year tried everything chewing gum garden hose ran hose main 8 hours water appeared another hole 20 feet away mole poison looked mole guarantees even considered little one time mole trap arrived yesterday april 2012 read reviews using instructions reviewer thanks set trap following reviewers instruction warned family aware trap keep away shortly 6 today found trap jaws flat smooth front yard tomorrow move back yard this trap incredible \n",
      "Polaridad:  {'neg': 0.209, 'neu': 0.756, 'pos': 0.035, 'compound': -0.9042}\n",
      "\n",
      "Sentencia original:\n",
      "First, a disclaimer.  I am strange in the fact that I like cereal as a bedtime snack.  That way, in my diet riddled mind, I am getting some quality nutrition for the calories I am eating (as opposed to , say, ice cream).  With that off of my chest, this is a great cereal.<br /><br />One quarter to one half of a cup of this granola with some milk and I am totally satisfied.  The chocolate taste proved totally enjoyable - even though I had my doubts about how chocolate and cold milk would get that whole \"melt in your mouth\" thing going.  Somehow, Back to Nature pulls it off.<br /><br />The ingredient list is also very good.  No preservatives, colors or flavors.  The first ingredient is rolled oats and the second is semi-sweet chocolate.  That information alone will give you a sense of the predominant flavors.\n",
      "Polaridad:  {'neg': 0.057, 'neu': 0.836, 'pos': 0.108, 'compound': 0.8625}\n",
      "Sentencia preprocesada:\n",
      "first disclaimer strange fact like cereal bedtime snack way diet mind getting quality nutrition calories eating opposed say ice cream chest great cereal one quarter one half cup granola milk totally satisfied chocolate taste proved totally enjoyable even though chocolate cold milk would get whole melt mouth thing going somehow back nature pulls off the ingredient list also good preservatives colors flavors first ingredient rolled oats second semi sweet chocolate information alone give sense flavors \n",
      "Polaridad:  {'neg': 0.042, 'neu': 0.748, 'pos': 0.21, 'compound': 0.9431}\n",
      "\n",
      "Sentencia original:\n",
      "The pet food industry can be one of the most infuriating as you start doing research and discovering what trash manufacturers (and the vets who get paid off by the manufacturers) push onto the unsuspecting public. For reference, don't ask your vet - do some Internet research at sites like, for example, [...]. What you'll find is that even the supposed \"high-end\" lines from basically every major supermarket label are horrible for your fuzzy friends. People who trust the marketing or trust their vets overpay and feed their cats foods that are full of carcinogens, cheap ingredients that are inappropriate for a cat's digestive system, and byproducts that provide nothing of value and are basically a way to make cheap profit off of literal garbage. It's a tragedy, as these same cats end up with shorter lifespans, kidney problems, UTIs, cancer, and a host of other issues, all of which could have been avoided by a high quality food.<br /><br />This is an A-Grade food. What you'll find here is very high protein content, many meat meals, potatoes, salmon oil, flax seed, and no grains, which is great as a cat is not an omnivore, it's a carnivore, and it simply does not need grains. It has 50 percent protein, which is among the highest you'll see in cat food. The first 4 ingredients are all meats.<br /><br />What you will NOT find here is the kind of junk you'll see in things like Purina One and Science Diet - byproducts (aka beaks, feathers, bird feet), brewers rice (aka the waste product from making beer), wheat flour (a leading cause of pet allergies), corn gluten (a cheap waste of space), and things like \"liver flavor\" (because they don't want to pay for the real thing). I didn't just pull those ingredients out of the air - I was reading the ingredients list of Purina One. It's pathetic.<br /><br />Don't feed your cats trash. Pay a little more to feed them good food now, and they'll lead longer, healthier, more satisfied lives as a result. It's worth it.\n",
      "Polaridad:  {'neg': 0.089, 'neu': 0.821, 'pos': 0.089, 'compound': -0.0418}\n",
      "Sentencia preprocesada:\n",
      "pet food industry one infuriating start research discovering trash manufacturers vets get paid manufacturers push onto unsuspecting public reference ask vet internet research sites like example find even supposed high end lines basically every major supermarket label horrible fuzzy friends people trust marketing trust vets overpay feed cats foods full carcinogens cheap ingredients inappropriate cat digestive system byproducts provide nothing value basically way make cheap profit literal garbage tragedy cats end shorter lifespans kidney problems utis cancer host issues could avoided high quality food this grade food find high protein content many meat meals potatoes salmon oil flax seed grains great cat omnivore carnivore simply need grains 50 percent protein among highest see cat food first 4 ingredients meats what find kind junk see things like purina one science diet byproducts aka beaks feathers bird feet brewers rice aka waste product making beer wheat flour leading cause pet allergies corn gluten cheap waste space things like liver flavor want pay real thing pull ingredients air reading ingredients list purina one pathetic feed cats trash pay little feed good food lead longer healthier satisfied lives result worth \n",
      "Polaridad:  {'neg': 0.151, 'neu': 0.692, 'pos': 0.157, 'compound': 0.0736}\n",
      "\n",
      "Sentencia original:\n",
      "This curry is nice and spicy - really a convenient tasty meal on it's own, or (slightly less convenient) combined with some rice.  Packaging is a bit inconvenient for stacking in the pantry, but it wouldn't stop me from buying more.  The consistency of the potatoes, chick peas, etc is pretty good (not real mushy).  Also the ingredients are vegan, although the package does say processed in a facility that also processes milk.\n",
      "Polaridad:  {'neg': 0.022, 'neu': 0.82, 'pos': 0.159, 'compound': 0.8929}\n",
      "Sentencia preprocesada:\n",
      "curry nice spicy really convenient tasty meal slightly less convenient combined rice packaging bit pantry would stop buying consistency potatoes chick peas etc pretty good real mushy also ingredients vegan although package say processed facility also processes milk \n",
      "Polaridad:  {'neg': 0.049, 'neu': 0.754, 'pos': 0.197, 'compound': 0.7717}\n",
      "\n",
      "Sentencia original:\n",
      "Came 4 days before estimated due date. None of them are broken because they were wrapped in bubble wrap and packaged well. Box might be gone by tomorrow:)\n",
      "Polaridad:  {'neg': 0.103, 'neu': 0.828, 'pos': 0.07, 'compound': -0.25}\n",
      "Sentencia preprocesada:\n",
      "came 4 days estimated due date none broken wrapped bubble wrap packaged well box might gone tomorrow \n",
      "Polaridad:  {'neg': 0.0, 'neu': 0.751, 'pos': 0.249, 'compound': 0.5653}\n",
      "\n",
      "Sentencia original:\n",
      "I've learned that one should never take a juice product that has been processed into a capsule, powder or things like that because you're losing valuable nutrients. Genesis Today's Aça&iacute; is the only liquid, thick and real Aça&iacute; juice available today. I'm really glad to have found it, the nutrients value are very high and the taste is very refreshing. Highly recommended.\n",
      "Polaridad:  {'neg': 0.037, 'neu': 0.769, 'pos': 0.194, 'compound': 0.8764}\n",
      "Sentencia preprocesada:\n",
      "learned one never take juice product processed capsule powder things like losing valuable nutrients today liquid thick real juice available today really glad found nutrients value high taste refreshing highly recommended \n",
      "Polaridad:  {'neg': 0.063, 'neu': 0.61, 'pos': 0.327, 'compound': 0.8685}\n",
      "\n",
      "Sentencia original:\n",
      "The cereal came to me fresh, and in a timely manner. Good vendor, I'd definitely buy from again!\n",
      "Polaridad:  {'neg': 0.0, 'neu': 0.631, 'pos': 0.369, 'compound': 0.8016}\n",
      "Sentencia preprocesada:\n",
      "cereal came fresh timely manner good vendor definitely buy \n",
      "Polaridad:  {'neg': 0.0, 'neu': 0.432, 'pos': 0.568, 'compound': 0.7845}\n",
      "\n",
      "Sentencia original:\n",
      "Love the Green Mountain Coffee; tastes great in the Keurig and this is the best price yet!  Would definitely continue to buy!  I usually go through about a box per month and found this to be the most economical purchase!\n",
      "Polaridad:  {'neg': 0.0, 'neu': 0.679, 'pos': 0.321, 'compound': 0.9522}\n",
      "Sentencia preprocesada:\n",
      "love green mountain coffee tastes great keurig best price yet would definitely continue buy usually box per month found economical purchase \n",
      "Polaridad:  {'neg': 0.0, 'neu': 0.528, 'pos': 0.472, 'compound': 0.9451}\n",
      "\n",
      "Sentencia original:\n",
      "These cookies are fabulous. Flaky, not too sweet, fluffy not gooey layers. Small but not too small. Suggested serving size of 6 is good. Lots of things these days have completely unrealistic serving sizes. I know they have sat fat but I really don't care. I have been unable to find anything like them. They remind me of REAL bakery cookies.\n",
      "Polaridad:  {'neg': 0.084, 'neu': 0.777, 'pos': 0.139, 'compound': 0.572}\n",
      "Sentencia preprocesada:\n",
      "cookies fabulous flaky sweet fluffy gooey layers small small suggested serving size 6 good lots things days completely serving sizes know sat fat really care unable find anything like remind real bakery cookies \n",
      "Polaridad:  {'neg': 0.0, 'neu': 0.638, 'pos': 0.362, 'compound': 0.9359}\n",
      "\n",
      "Sentencia original:\n",
      "Love the convenience of it being premeasured and this popcorn tastes great. I would buy this again and tell others I know to as well.\n",
      "Polaridad:  {'neg': 0.0, 'neu': 0.658, 'pos': 0.342, 'compound': 0.886}\n",
      "Sentencia preprocesada:\n",
      "love convenience popcorn tastes great would buy tell others know well \n",
      "Polaridad:  {'neg': 0.0, 'neu': 0.435, 'pos': 0.565, 'compound': 0.886}\n",
      "\n",
      "Sentencia original:\n",
      "I recently discovered Popchips and their greatness. So I have been trying them out flavor by flavor. The Chili Lime has is now my favorite. It had previously been the Salt & Pepper. It is def not too spicy, so don't let that scare you. If anything the lime is the highest note of flavor. If you already like Popchips, this is a new great flavor to try. If you have never tried them, then this is a great flavor to start with.\n",
      "Polaridad:  {'neg': 0.0, 'neu': 0.817, 'pos': 0.183, 'compound': 0.9462}\n",
      "Sentencia preprocesada:\n",
      "recently discovered popchips trying flavor flavor chili lime favorite previously salt pepper def spicy let scare anything lime highest note flavor already like popchips new great flavor try never tried great flavor start \n",
      "Polaridad:  {'neg': 0.071, 'neu': 0.624, 'pos': 0.305, 'compound': 0.8885}\n",
      "\n",
      "Sentencia original:\n",
      "This is a wonderful price for Tulepo honey, and It's even better that this is a raw honey.<br />There's never any waste with this type of honey, as it simply doesn't crystalize. It tastes<br />great, with just a faint hint of lemon.\n",
      "Polaridad:  {'neg': 0.0, 'neu': 0.801, 'pos': 0.199, 'compound': 0.8373}\n",
      "Sentencia preprocesada:\n",
      "wonderful price honey even better raw honey there never waste type honey simply faint hint lemon \n",
      "Polaridad:  {'neg': 0.0, 'neu': 0.593, 'pos': 0.407, 'compound': 0.8373}\n",
      "\n",
      "Sentencia original:\n",
      "I have been doing a feral cat program for awhile now. The food is important but they love good cat nip and I HAVE FOUND IT !!!!!This is like medical marijuana to my wild cats. In the worst of times they sniff and eat this and get through the cold and fight to keep their territory...I love my TNR program I donated to Denver for wonderful reasons. We elders must set a example..Thank You Amazon and all the  stores and fast delivery bundling and easy open packaging.. I don't take enough time to thank you and the wonderful people who deliver all my STUFF THANKS THANKS and ALWAYS BE HAPPY :)\n",
      "Polaridad:  {'neg': 0.057, 'neu': 0.561, 'pos': 0.382, 'compound': 0.9952}\n",
      "Sentencia preprocesada:\n",
      "cat program awhile food important love good cat found like medical wild cats worst times sniff eat get cold fight keep love program donated wonderful reasons must set example thank amazon stores fast delivery easy open packaging take enough time thank wonderful people deliver stuff thanks thanks always happy \n",
      "Polaridad:  {'neg': 0.082, 'neu': 0.403, 'pos': 0.515, 'compound': 0.9866}\n",
      "\n",
      "Sentencia original:\n",
      "The dessert recipe i wanted to make called for a mango syrup.  Since i haven't tasted the Torani and the Monin mango syrups, i decided to give both a try. Growing up eating Philippine mangoes during the mango season will pretty much give me an idea of how mangoes should taste like.<br />IMO, the Torani mango syrup doesn't taste like it has real mango in it, tastes very artificial.<br />On the other hand, the Monin mango syrup surely would have artificial ingredients in it too but Monin did a pretty good job of making the syrup taste more like pureed mango.  I love Monin.  I hope that the Rose and the Lavender syrups i bought just now won't disappoint as well.\n",
      "Polaridad:  {'neg': 0.048, 'neu': 0.743, 'pos': 0.209, 'compound': 0.9711}\n",
      "Sentencia preprocesada:\n",
      "dessert recipe wanted make called mango syrup since tasted torani monin mango syrups decided give try growing eating mangoes mango season pretty much give idea mangoes taste like imo torani mango syrup taste like real mango tastes artificial hand monin mango syrup surely would artificial ingredients monin pretty good job making syrup taste like pureed mango love monin hope rose lavender syrups bought disappoint well \n",
      "Polaridad:  {'neg': 0.031, 'neu': 0.588, 'pos': 0.382, 'compound': 0.9819}\n",
      "\n",
      "Sentencia original:\n",
      "Can it be?  A cerial that has \"fiber\" in it's name that I don't have to mix with another cerial just to choke down?  Yes!!  This is it!  Get your fiber in a way that is actually pleasant.  I love the 21st century!\n",
      "Polaridad:  {'neg': 0.07, 'neu': 0.697, 'pos': 0.233, 'compound': 0.8492}\n",
      "Sentencia preprocesada:\n",
      "fiber name mix another choke yes get fiber way actually pleasant love century \n",
      "Polaridad:  {'neg': 0.154, 'neu': 0.396, 'pos': 0.449, 'compound': 0.7717}\n",
      "\n",
      "Sentencia original:\n",
      "My german shepherd puppy loves this food.  It is very soft, so it mixes with her dry food easily.  The ingredients are fantastic so I know she is eating quality food.\n",
      "Polaridad:  {'neg': 0.0, 'neu': 0.736, 'pos': 0.264, 'compound': 0.8658}\n",
      "Sentencia preprocesada:\n",
      "german shepherd puppy loves food soft mixes dry food easily ingredients fantastic know eating quality food \n",
      "Polaridad:  {'neg': 0.0, 'neu': 0.573, 'pos': 0.427, 'compound': 0.8658}\n",
      "\n",
      "Sentencia original:\n",
      "These traps have caught nothing but dust. I would not recommend this product to anyone who is experiencing problems with meal moths.\n",
      "Polaridad:  {'neg': 0.246, 'neu': 0.754, 'pos': 0.0, 'compound': -0.7364}\n",
      "Sentencia preprocesada:\n",
      "traps caught nothing dust would recommend product anyone experiencing problems meal moths \n",
      "Polaridad:  {'neg': 0.325, 'neu': 0.675, 'pos': 0.0, 'compound': -0.5873}\n",
      "\n",
      "Sentencia original:\n",
      "Campbell's wedding soup is fine.  However, the package arrived with the box torn and three cans completely smashed open with their contents filling the shrink wrap.\n",
      "Polaridad:  {'neg': 0.072, 'neu': 0.863, 'pos': 0.065, 'compound': -0.0516}\n",
      "Sentencia preprocesada:\n",
      "campbell wedding soup fine however package arrived box torn three cans completely smashed open contents filling shrink wrap \n",
      "Polaridad:  {'neg': 0.101, 'neu': 0.808, 'pos': 0.091, 'compound': -0.0516}\n",
      "\n",
      "Sentencia original:\n",
      "The taste is pretty decent for a cup noodle. It is dehydrated stuff so it is a bit entertaining to watch them rehydrate. Being an instant noodle, the salt levels are high but you can control the flavor packet. My only problem is that the title says udon and I am pretty sure these are ramen noodles.\n",
      "Polaridad:  {'neg': 0.056, 'neu': 0.767, 'pos': 0.177, 'compound': 0.775}\n",
      "Sentencia preprocesada:\n",
      "taste pretty decent cup noodle dehydrated stuff bit entertaining watch rehydrate instant noodle salt levels high control flavor packet problem title says udon pretty sure ramen noodles \n",
      "Polaridad:  {'neg': 0.074, 'neu': 0.606, 'pos': 0.32, 'compound': 0.836}\n",
      "\n"
     ]
    }
   ],
   "source": [
    "from nltk.sentiment.vader import SentimentIntensityAnalyzer\n",
    "sid = SentimentIntensityAnalyzer()\n",
    "\n",
    "def determinar_polaridad(D, n = 0):\n",
    "    if n == 0: # mostrar todos los datos\n",
    "        n = len(D)\n",
    "        \n",
    "    for i in range(n):\n",
    "        sentencia_preprocesada = D[i]\n",
    "        sentencia_original = Reviews.iloc[i]\n",
    "        \n",
    "        print \"Sentencia original:\"\n",
    "        print sentencia_original\n",
    "        print \"Polaridad: \",sid.polarity_scores(sentencia_original)\n",
    "        \n",
    "        print \"Sentencia preprocesada:\"\n",
    "        print sentencia_preprocesada\n",
    "        print \"Polaridad: \",sid.polarity_scores(sentencia_preprocesada)\n",
    "        print \"\"\n",
    "        \n",
    "determinar_polaridad(Documento,20)"
   ]
  },
  {
   "cell_type": "markdown",
   "metadata": {},
   "source": [
    "La aplicación del método mencionado anteriormente, nos indica la connotación de la sentencia analizada, es decir, qué tan positiva, negativa o neutral es la posición del opinológo en cuanto al elemento en cuestión. \n",
    "VADER proporciona análisis léxico no-supervisado que se basa en un diccionario de palabras, lo que lo posiciona dentro de los métodos Opinion Words para Sentiment Analysis. A diferencia de otros métodos, VADER no requiere entrenamiento o tagger previo sino que ésto ya se ha implementado dentro de la libreria para poder hacer uso directo de sus funciones.  \n",
    "Sabiendo esto, y  para poder analizar los resultados obtenidos, se presentan tanto la sentencia original como la sentencia procesada, a la que se le han eliminado los tags HTML, términos sin significado por sí solos o *stopwords*, palabras con frecuencia menor a 3 y está tokenizado, generando un texto no muy comprensible pues carece de coherencia.  \n",
    "En varios casos, los retornos de la función indican una polaridad no muy alineada a lo que un ser humano dictaría al leer la reseña. Aún así, los resultados no son muy alejados. El método reconoce correctamente aquellas palabras que comunmente se considerarían negativas (*problem*, *garbage*, *trash*, *etc*) y aquellas que se considerarían positivas (*good*, *best*, *pleasant*, *etc*) lo cual permite ponderar y entregar la tendencia principal de las reseñas. Así entonces, es posible notar que algoritmos como VADER (Opinion Words) necesitan de otras técnicas para permitir una mayor precisión en sus resultados. Por ejemplo: considerar aquellas palabras que los usuarios de internet han escrito mal, de forma abreviada o incluso aquellos términos que han ganado significado en una sociedad moderna (emoticonos, siglas, entre otros).  \n",
    "\n",
    "No es extraño encontrar casos donde en la reseña original y preprocesada tengan orientaciones contrapuestas. Una posible razón de este veredicto es que este es un analizador léxico de cada palabra individial, es decir, no considera el contexto en el cual está inmerso, entonces al reducir la cantidad de palabras de una reseña a otra, las palabras positivas/negativas adquieren una mayor ponderación sobre la sentencia completa."
   ]
  }
 ],
 "metadata": {
  "kernelspec": {
   "display_name": "Python 2",
   "language": "python",
   "name": "python2"
  },
  "language_info": {
   "codemirror_mode": {
    "name": "ipython",
    "version": 2
   },
   "file_extension": ".py",
   "mimetype": "text/x-python",
   "name": "python",
   "nbconvert_exporter": "python",
   "pygments_lexer": "ipython2",
   "version": "2.7.9"
  }
 },
 "nbformat": 4,
 "nbformat_minor": 1
}
